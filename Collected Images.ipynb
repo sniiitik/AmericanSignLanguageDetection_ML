{
 "cells": [
  {
   "cell_type": "code",
   "execution_count": 4,
   "id": "4e040e826479e970",
   "metadata": {
    "ExecuteTime": {
     "end_time": "2023-10-16T03:07:16.319927700Z",
     "start_time": "2023-10-16T03:07:16.309470900Z"
    }
   },
   "outputs": [],
   "source": [
    "import cv2\n",
    "import os\n",
    "import uuid\n",
    "import time"
   ]
  },
  {
   "cell_type": "code",
   "execution_count": 5,
   "id": "f6cf74cd",
   "metadata": {
    "ExecuteTime": {
     "end_time": "2023-10-16T03:07:17.962790100Z",
     "start_time": "2023-10-16T03:07:17.956517400Z"
    }
   },
   "outputs": [],
   "source": [
    "IMAGE_PATH='Tensorflow\\workspace\\images\\collectedimages'"
   ]
  },
  {
   "cell_type": "code",
   "execution_count": 6,
   "id": "22d76870",
   "metadata": {
    "ExecuteTime": {
     "end_time": "2023-10-16T03:07:18.482640700Z",
     "start_time": "2023-10-16T03:07:18.470846900Z"
    }
   },
   "outputs": [],
   "source": [
    "labels=['hello','thanks','yes','no','iloveyou','please','eat','help','deaf']\n",
    "number_of_images=15"
   ]
  },
  {
   "cell_type": "code",
   "execution_count": 7,
   "id": "547eb79abcb102b7",
   "metadata": {
    "ExecuteTime": {
     "end_time": "2023-10-16T03:02:02.679207600Z",
     "start_time": "2023-10-16T03:01:34.607768300Z"
    }
   },
   "outputs": [
    {
     "name": "stderr",
     "output_type": "stream",
     "text": [
      "A subdirectory or file Tensorflow\\workspace\\images\\collectedimages\\hello already exists.\n"
     ]
    },
    {
     "name": "stdout",
     "output_type": "stream",
     "text": [
      "Collecting images for hello\n",
      "Collecting images for thanks\n",
      "Collecting images for yes\n",
      "Collecting images for no\n",
      "Collecting images for iloveyou\n",
      "Collecting images for please\n",
      "Collecting images for eat\n",
      "Collecting images for help\n",
      "Collecting images for deaf\n"
     ]
    }
   ],
   "source": [
    "for label in labels:\n",
    "    !mkdir {'Tensorflow\\workspace\\images\\collectedimages\\\\'+label}\n",
    "    cap=cv2.VideoCapture(0)\n",
    "    print('Collecting images for {}'.format(label))\n",
    "    time.sleep(5)\n",
    "    for imgnum in range(number_of_images):\n",
    "        ret,frame=cap.read()\n",
    "        imagename=os.path.join(IMAGE_PATH,label,label+'.'+'{}.jpg'.format(str(uuid.uuid1())))\n",
    "        cv2.imwrite(imagename,frame)\n",
    "        cv2.imshow('frame',frame)\n",
    "        time.sleep(2)\n",
    "        \n",
    "        if cv2.waitKey(1) & 0xFF==ord('q'):\n",
    "            break\n",
    "    cap.release()"
   ]
  },
  {
   "cell_type": "code",
   "execution_count": 8,
   "id": "7da45db01a7569f9",
   "metadata": {},
   "outputs": [],
   "source": [
    "cap.release()"
   ]
  },
  {
   "cell_type": "code",
   "execution_count": 9,
   "id": "b1b43689",
   "metadata": {},
   "outputs": [],
   "source": [
    "cv2.destroyAllWindows()"
   ]
  },
  {
   "cell_type": "code",
   "execution_count": null,
   "id": "443deb5e",
   "metadata": {},
   "outputs": [],
   "source": []
  }
 ],
 "metadata": {
  "kernelspec": {
   "display_name": "Python 3 (ipykernel)",
   "language": "python",
   "name": "python3"
  },
  "language_info": {
   "codemirror_mode": {
    "name": "ipython",
    "version": 3
   },
   "file_extension": ".py",
   "mimetype": "text/x-python",
   "name": "python",
   "nbconvert_exporter": "python",
   "pygments_lexer": "ipython3",
   "version": "3.11.5"
  }
 },
 "nbformat": 4,
 "nbformat_minor": 5
}
